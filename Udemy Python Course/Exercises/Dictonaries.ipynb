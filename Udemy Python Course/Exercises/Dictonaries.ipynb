{
 "cells": [
  {
   "cell_type": "markdown",
   "id": "7e6924d0",
   "metadata": {},
   "source": [
    "## Dictionaries\n",
    "* Key value pairs\n",
    "* use when you want to retrieve a value when you dont care about the index\n",
    "* can't sort a dictionary"
   ]
  },
  {
   "cell_type": "code",
   "execution_count": 1,
   "id": "5d21e1b7",
   "metadata": {},
   "outputs": [],
   "source": [
    "my_dict = {'key1':\"value1\", \"key2\": \"value2\"}"
   ]
  },
  {
   "cell_type": "code",
   "execution_count": 2,
   "id": "364a370c",
   "metadata": {},
   "outputs": [
    {
     "data": {
      "text/plain": [
       "{'key1': 'value1', 'key2': 'value2'}"
      ]
     },
     "execution_count": 2,
     "metadata": {},
     "output_type": "execute_result"
    }
   ],
   "source": [
    "my_dict"
   ]
  },
  {
   "cell_type": "code",
   "execution_count": 3,
   "id": "d8602783",
   "metadata": {},
   "outputs": [
    {
     "data": {
      "text/plain": [
       "'value1'"
      ]
     },
     "execution_count": 3,
     "metadata": {},
     "output_type": "execute_result"
    }
   ],
   "source": [
    "  my_dict[\"key1\"]"
   ]
  },
  {
   "cell_type": "code",
   "execution_count": 4,
   "id": "84b51da8",
   "metadata": {},
   "outputs": [],
   "source": [
    "prices_lookup = {'apple': 2.99,'oranges':1.99, 'milk':5.80}"
   ]
  },
  {
   "cell_type": "code",
   "execution_count": 5,
   "id": "29820ff7",
   "metadata": {},
   "outputs": [
    {
     "data": {
      "text/plain": [
       "2.99"
      ]
     },
     "execution_count": 5,
     "metadata": {},
     "output_type": "execute_result"
    }
   ],
   "source": [
    "prices_lookup['apple']"
   ]
  },
  {
   "cell_type": "code",
   "execution_count": 6,
   "id": "8080ea9a",
   "metadata": {},
   "outputs": [
    {
     "data": {
      "text/plain": [
       "1.99"
      ]
     },
     "execution_count": 6,
     "metadata": {},
     "output_type": "execute_result"
    }
   ],
   "source": [
    "prices_lookup['oranges']"
   ]
  },
  {
   "cell_type": "code",
   "execution_count": 7,
   "id": "96b54f75",
   "metadata": {},
   "outputs": [],
   "source": [
    "d = {'k1':123,'k2': [0,1,2], \"k3\":{'insideKey':100}}"
   ]
  },
  {
   "cell_type": "code",
   "execution_count": 8,
   "id": "b0f3087d",
   "metadata": {},
   "outputs": [
    {
     "data": {
      "text/plain": [
       "[0, 1, 2]"
      ]
     },
     "execution_count": 8,
     "metadata": {},
     "output_type": "execute_result"
    }
   ],
   "source": [
    "d['k2']"
   ]
  },
  {
   "cell_type": "code",
   "execution_count": 9,
   "id": "527ca0fb",
   "metadata": {},
   "outputs": [
    {
     "data": {
      "text/plain": [
       "{'insideKey': 100}"
      ]
     },
     "execution_count": 9,
     "metadata": {},
     "output_type": "execute_result"
    }
   ],
   "source": [
    "d['k3']"
   ]
  },
  {
   "cell_type": "code",
   "execution_count": 10,
   "id": "e37e54c7",
   "metadata": {},
   "outputs": [
    {
     "data": {
      "text/plain": [
       "100"
      ]
     },
     "execution_count": 10,
     "metadata": {},
     "output_type": "execute_result"
    }
   ],
   "source": [
    "d['k3'][\"insideKey\"]"
   ]
  },
  {
   "cell_type": "code",
   "execution_count": 11,
   "id": "295d1b31",
   "metadata": {},
   "outputs": [],
   "source": [
    "d = {\"k1\":['a','b','c']}"
   ]
  },
  {
   "cell_type": "code",
   "execution_count": 12,
   "id": "e82fe709",
   "metadata": {},
   "outputs": [],
   "source": [
    "mylistr = d['k1']"
   ]
  },
  {
   "cell_type": "code",
   "execution_count": 13,
   "id": "a5fb8144",
   "metadata": {},
   "outputs": [
    {
     "data": {
      "text/plain": [
       "['a', 'b', 'c']"
      ]
     },
     "execution_count": 13,
     "metadata": {},
     "output_type": "execute_result"
    }
   ],
   "source": [
    "mylistr"
   ]
  },
  {
   "cell_type": "code",
   "execution_count": 15,
   "id": "2dfa5962",
   "metadata": {},
   "outputs": [
    {
     "data": {
      "text/plain": [
       "'C'"
      ]
     },
     "execution_count": 15,
     "metadata": {},
     "output_type": "execute_result"
    }
   ],
   "source": [
    "d[\"k1\"][2].upper()"
   ]
  },
  {
   "cell_type": "code",
   "execution_count": 16,
   "id": "c4b79f7d",
   "metadata": {},
   "outputs": [],
   "source": [
    "d = {'k1':100, 'k2':200}"
   ]
  },
  {
   "cell_type": "code",
   "execution_count": 18,
   "id": "2f398ce3",
   "metadata": {},
   "outputs": [],
   "source": [
    "d['k3']=300 #add key value pair\n"
   ]
  },
  {
   "cell_type": "code",
   "execution_count": 19,
   "id": "667491b2",
   "metadata": {},
   "outputs": [
    {
     "data": {
      "text/plain": [
       "{'k1': 100, 'k2': 200, 'k3': 300}"
      ]
     },
     "execution_count": 19,
     "metadata": {},
     "output_type": "execute_result"
    }
   ],
   "source": [
    "d"
   ]
  },
  {
   "cell_type": "code",
   "execution_count": 20,
   "id": "dea93632",
   "metadata": {},
   "outputs": [
    {
     "data": {
      "text/plain": [
       "<function dict.keys>"
      ]
     },
     "execution_count": 20,
     "metadata": {},
     "output_type": "execute_result"
    }
   ],
   "source": [
    "d.keys"
   ]
  },
  {
   "cell_type": "code",
   "execution_count": 21,
   "id": "41da44d8",
   "metadata": {},
   "outputs": [
    {
     "data": {
      "text/plain": [
       "dict_keys(['k1', 'k2', 'k3'])"
      ]
     },
     "execution_count": 21,
     "metadata": {},
     "output_type": "execute_result"
    }
   ],
   "source": [
    "d.keys() # all keys"
   ]
  },
  {
   "cell_type": "code",
   "execution_count": 22,
   "id": "78f53217",
   "metadata": {},
   "outputs": [
    {
     "data": {
      "text/plain": [
       "dict_values([100, 200, 300])"
      ]
     },
     "execution_count": 22,
     "metadata": {},
     "output_type": "execute_result"
    }
   ],
   "source": [
    "d.values() # all values"
   ]
  },
  {
   "cell_type": "code",
   "execution_count": 24,
   "id": "3d868fd1",
   "metadata": {},
   "outputs": [
    {
     "data": {
      "text/plain": [
       "dict_items([('k1', 100), ('k2', 200), ('k3', 300)])"
      ]
     },
     "execution_count": 24,
     "metadata": {},
     "output_type": "execute_result"
    }
   ],
   "source": [
    "d.items() # key value pairs presented as Tuples"
   ]
  },
  {
   "cell_type": "code",
   "execution_count": null,
   "id": "e72ef008",
   "metadata": {},
   "outputs": [],
   "source": []
  }
 ],
 "metadata": {
  "kernelspec": {
   "display_name": "Python 3 (ipykernel)",
   "language": "python",
   "name": "python3"
  },
  "language_info": {
   "codemirror_mode": {
    "name": "ipython",
    "version": 3
   },
   "file_extension": ".py",
   "mimetype": "text/x-python",
   "name": "python",
   "nbconvert_exporter": "python",
   "pygments_lexer": "ipython3",
   "version": "3.9.12"
  }
 },
 "nbformat": 4,
 "nbformat_minor": 5
}
