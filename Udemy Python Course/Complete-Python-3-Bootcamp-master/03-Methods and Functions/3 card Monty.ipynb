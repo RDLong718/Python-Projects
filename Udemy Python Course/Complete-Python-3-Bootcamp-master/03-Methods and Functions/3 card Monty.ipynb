{
 "cells": [
  {
   "cell_type": "markdown",
   "id": "870d53a5",
   "metadata": {},
   "source": [
    "## 3 Card Monty"
   ]
  },
  {
   "cell_type": "code",
   "execution_count": 1,
   "id": "460134d1",
   "metadata": {},
   "outputs": [],
   "source": [
    "example = [1,2,3,4,5,6,7]"
   ]
  },
  {
   "cell_type": "code",
   "execution_count": 2,
   "id": "7fe4f394",
   "metadata": {},
   "outputs": [],
   "source": [
    "from random import shuffle"
   ]
  },
  {
   "cell_type": "code",
   "execution_count": 3,
   "id": "0df897c6",
   "metadata": {},
   "outputs": [],
   "source": [
    "shuffle(example)"
   ]
  },
  {
   "cell_type": "code",
   "execution_count": 4,
   "id": "14067271",
   "metadata": {},
   "outputs": [
    {
     "data": {
      "text/plain": [
       "[7, 4, 2, 6, 1, 5, 3]"
      ]
     },
     "execution_count": 4,
     "metadata": {},
     "output_type": "execute_result"
    }
   ],
   "source": [
    "example"
   ]
  },
  {
   "cell_type": "code",
   "execution_count": 5,
   "id": "911831e0",
   "metadata": {},
   "outputs": [],
   "source": [
    "def shuffle_list(mylist):\n",
    "    shuffle(mylist)\n",
    "    return mylist"
   ]
  },
  {
   "cell_type": "code",
   "execution_count": 6,
   "id": "b5d218fd",
   "metadata": {},
   "outputs": [
    {
     "data": {
      "text/plain": [
       "[4, 5, 1, 2, 6, 7, 3]"
      ]
     },
     "execution_count": 6,
     "metadata": {},
     "output_type": "execute_result"
    }
   ],
   "source": [
    "result = shuffle_list(example)\n",
    "result"
   ]
  },
  {
   "cell_type": "code",
   "execution_count": 7,
   "id": "575eaaaa",
   "metadata": {},
   "outputs": [],
   "source": [
    "mylist=['0','','']"
   ]
  },
  {
   "cell_type": "code",
   "execution_count": 8,
   "id": "5ce959b4",
   "metadata": {},
   "outputs": [
    {
     "data": {
      "text/plain": [
       "['', '', '0']"
      ]
     },
     "execution_count": 8,
     "metadata": {},
     "output_type": "execute_result"
    }
   ],
   "source": [
    "shuffle_list(mylist)"
   ]
  },
  {
   "cell_type": "code",
   "execution_count": 10,
   "id": "56161748",
   "metadata": {},
   "outputs": [],
   "source": [
    "def player_guess():\n",
    "    guess=''\n",
    "    while guess not in [\"0\", '1','2']:        \n",
    "        guess = input(\"Pick a number: 0, 1 or 2\")\n",
    "    return int(guess)"
   ]
  },
  {
   "cell_type": "code",
   "execution_count": 11,
   "id": "75bd732a",
   "metadata": {},
   "outputs": [
    {
     "name": "stdout",
     "output_type": "stream",
     "text": [
      "Pick a number: 0, 1 or 22\n"
     ]
    },
    {
     "data": {
      "text/plain": [
       "2"
      ]
     },
     "execution_count": 11,
     "metadata": {},
     "output_type": "execute_result"
    }
   ],
   "source": [
    "player_guess()"
   ]
  },
  {
   "cell_type": "code",
   "execution_count": 12,
   "id": "ea37421f",
   "metadata": {},
   "outputs": [
    {
     "name": "stdout",
     "output_type": "stream",
     "text": [
      "Pick a number: 0, 1 or 21\n"
     ]
    }
   ],
   "source": [
    "myindex = player_guess()\n"
   ]
  },
  {
   "cell_type": "code",
   "execution_count": 13,
   "id": "73a61a91",
   "metadata": {},
   "outputs": [
    {
     "data": {
      "text/plain": [
       "1"
      ]
     },
     "execution_count": 13,
     "metadata": {},
     "output_type": "execute_result"
    }
   ],
   "source": [
    "myindex"
   ]
  },
  {
   "cell_type": "code",
   "execution_count": 14,
   "id": "49785ce8",
   "metadata": {},
   "outputs": [],
   "source": [
    "def check_guess(mylist, guess):\n",
    "    if mylist[guess]=='O':\n",
    "        print(\"Correct\")\n",
    "    else:\n",
    "        print(\"Wrong Guess!\")\n",
    "        print(mylist)"
   ]
  },
  {
   "cell_type": "code",
   "execution_count": 19,
   "id": "791e46ad",
   "metadata": {},
   "outputs": [
    {
     "name": "stdout",
     "output_type": "stream",
     "text": [
      "Pick a number: 0, 1 or 21\n",
      "Wrong Guess!\n",
      "['', '', 'O']\n"
     ]
    }
   ],
   "source": [
    "# INTIIAL LIST\n",
    "my_list =['','O','']\n",
    "\n",
    "# SHUFFLE LIST\n",
    "shuffled_up_list = shuffle_list(my_list)\n",
    "# USER GUESS\n",
    "guess = player_guess()\n",
    "# CHECK GUESS\n",
    "check_guess(shuffled_up_list, guess)"
   ]
  },
  {
   "cell_type": "code",
   "execution_count": null,
   "id": "d78b8e66",
   "metadata": {},
   "outputs": [],
   "source": []
  }
 ],
 "metadata": {
  "kernelspec": {
   "display_name": "Python 3 (ipykernel)",
   "language": "python",
   "name": "python3"
  },
  "language_info": {
   "codemirror_mode": {
    "name": "ipython",
    "version": 3
   },
   "file_extension": ".py",
   "mimetype": "text/x-python",
   "name": "python",
   "nbconvert_exporter": "python",
   "pygments_lexer": "ipython3",
   "version": "3.9.12"
  }
 },
 "nbformat": 4,
 "nbformat_minor": 5
}
