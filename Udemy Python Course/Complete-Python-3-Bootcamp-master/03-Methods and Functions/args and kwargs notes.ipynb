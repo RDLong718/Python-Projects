{
 "cells": [
  {
   "cell_type": "markdown",
   "id": "f8975e8e",
   "metadata": {},
   "source": [
    "## *Args and Kwargs"
   ]
  },
  {
   "cell_type": "code",
   "execution_count": 4,
   "id": "208647f2",
   "metadata": {},
   "outputs": [],
   "source": [
    "def myfunc(a,b):\n",
    "    #Returns 5 % of the sum of a and b\n",
    "    return sum((a,b)) * 0.05"
   ]
  },
  {
   "cell_type": "code",
   "execution_count": 5,
   "id": "83c876e6",
   "metadata": {},
   "outputs": [
    {
     "data": {
      "text/plain": [
       "5.0"
      ]
     },
     "execution_count": 5,
     "metadata": {},
     "output_type": "execute_result"
    }
   ],
   "source": [
    "myfunc(40,60)"
   ]
  },
  {
   "cell_type": "code",
   "execution_count": 6,
   "id": "29d56ff2",
   "metadata": {},
   "outputs": [],
   "source": [
    "# tuple is being passed in *args is arbitrary\n",
    "def myfunc(*args):\n",
    "    return sum (args) * 0.05"
   ]
  },
  {
   "cell_type": "code",
   "execution_count": 7,
   "id": "53968c66",
   "metadata": {},
   "outputs": [
    {
     "data": {
      "text/plain": [
       "27.3"
      ]
     },
     "execution_count": 7,
     "metadata": {},
     "output_type": "execute_result"
    }
   ],
   "source": [
    "myfunc(40,60,100,100,1,20,200,25)"
   ]
  },
  {
   "cell_type": "code",
   "execution_count": 8,
   "id": "8792f837",
   "metadata": {},
   "outputs": [],
   "source": [
    "def myfunc(**kwargs):\n",
    "    if 'fruit' in kwargs:\n",
    "        print(\"My fruit of choice is {}\".format(kwargs['fruit']))\n",
    "    else:\n",
    "        print(\"I found no fruit\")"
   ]
  },
  {
   "cell_type": "code",
   "execution_count": 9,
   "id": "cfbd9289",
   "metadata": {},
   "outputs": [
    {
     "name": "stdout",
     "output_type": "stream",
     "text": [
      "My fruit of choice is apple\n"
     ]
    }
   ],
   "source": [
    "myfunc(fruit='apple', veggie = 'lettuce')"
   ]
  },
  {
   "cell_type": "code",
   "execution_count": 12,
   "id": "0152f472",
   "metadata": {},
   "outputs": [],
   "source": [
    "def myfunc(*args, **kwargs):\n",
    "    print(args)\n",
    "    print(kwargs)\n",
    "    print(\"I would like {} {}\".format(args[0], kwargs['food']))"
   ]
  },
  {
   "cell_type": "code",
   "execution_count": 13,
   "id": "05fd23e7",
   "metadata": {},
   "outputs": [
    {
     "name": "stdout",
     "output_type": "stream",
     "text": [
      "(10, 20, 30)\n",
      "{'fruit': 'orange', 'food': 'eggs', 'animal': 'dogs'}\n",
      "I would like 10 eggs\n"
     ]
    }
   ],
   "source": [
    "myfunc(10,20,30, fruit =\"orange\", food=\"eggs\", animal =\"dogs\")"
   ]
  },
  {
   "cell_type": "code",
   "execution_count": null,
   "id": "e581aad8",
   "metadata": {},
   "outputs": [],
   "source": []
  }
 ],
 "metadata": {
  "kernelspec": {
   "display_name": "Python 3 (ipykernel)",
   "language": "python",
   "name": "python3"
  },
  "language_info": {
   "codemirror_mode": {
    "name": "ipython",
    "version": 3
   },
   "file_extension": ".py",
   "mimetype": "text/x-python",
   "name": "python",
   "nbconvert_exporter": "python",
   "pygments_lexer": "ipython3",
   "version": "3.9.12"
  }
 },
 "nbformat": 4,
 "nbformat_minor": 5
}
