{
 "cells": [
  {
   "cell_type": "markdown",
   "id": "eefdefee",
   "metadata": {},
   "source": [
    "### If, elif, else"
   ]
  },
  {
   "cell_type": "code",
   "execution_count": 1,
   "id": "cdce7e64",
   "metadata": {},
   "outputs": [
    {
     "name": "stdout",
     "output_type": "stream",
     "text": [
      "Its True!\n"
     ]
    }
   ],
   "source": [
    "if True:\n",
    "    print('Its True!')"
   ]
  },
  {
   "cell_type": "code",
   "execution_count": 2,
   "id": "63a67910",
   "metadata": {},
   "outputs": [
    {
     "name": "stdout",
     "output_type": "stream",
     "text": [
      "Its true\n"
     ]
    }
   ],
   "source": [
    "if 3>2:\n",
    "    print('Its true')"
   ]
  },
  {
   "cell_type": "code",
   "execution_count": 3,
   "id": "3a43fd34",
   "metadata": {},
   "outputs": [
    {
     "name": "stdout",
     "output_type": "stream",
     "text": [
      "Feed me\n"
     ]
    }
   ],
   "source": [
    "hungry = True\n",
    "if hungry:\n",
    "    print(\"Feed me\")"
   ]
  },
  {
   "cell_type": "code",
   "execution_count": 8,
   "id": "39717e55",
   "metadata": {},
   "outputs": [
    {
     "name": "stdout",
     "output_type": "stream",
     "text": [
      "I'm not hungry\n"
     ]
    }
   ],
   "source": [
    "hungry= False\n",
    "if hungry:\n",
    "    print('Feed Me!')\n",
    "else:\n",
    "    print(\"I'm not hungry\")"
   ]
  },
  {
   "cell_type": "code",
   "execution_count": 10,
   "id": "63ab7be9",
   "metadata": {},
   "outputs": [
    {
     "name": "stdout",
     "output_type": "stream",
     "text": [
      "Money is cool\n"
     ]
    }
   ],
   "source": [
    "loc = \"Bank\"\n",
    "if loc ==\"Auto Shop\":\n",
    "    print(\"Cars are cool\")\n",
    "elif loc == \"Bank\":\n",
    "    print(\"Money is cool\")\n",
    "else:\n",
    "    print(\"I dont know much\")"
   ]
  },
  {
   "cell_type": "code",
   "execution_count": 12,
   "id": "3b095c78",
   "metadata": {},
   "outputs": [
    {
     "name": "stdout",
     "output_type": "stream",
     "text": [
      "hello sammy\n"
     ]
    }
   ],
   "source": [
    "name =\"Sammy\"\n",
    "if name == \"Frankie\":\n",
    "    print(\"hello frankie\")\n",
    "elif name == \"Sammy\":\n",
    "    print(\"hello sammy\")\n",
    "else:\n",
    "    print(\"Whats your name?\")"
   ]
  },
  {
   "cell_type": "code",
   "execution_count": null,
   "id": "e61a4aca",
   "metadata": {},
   "outputs": [],
   "source": []
  }
 ],
 "metadata": {
  "kernelspec": {
   "display_name": "Python 3 (ipykernel)",
   "language": "python",
   "name": "python3"
  },
  "language_info": {
   "codemirror_mode": {
    "name": "ipython",
    "version": 3
   },
   "file_extension": ".py",
   "mimetype": "text/x-python",
   "name": "python",
   "nbconvert_exporter": "python",
   "pygments_lexer": "ipython3",
   "version": "3.9.12"
  }
 },
 "nbformat": 4,
 "nbformat_minor": 5
}
